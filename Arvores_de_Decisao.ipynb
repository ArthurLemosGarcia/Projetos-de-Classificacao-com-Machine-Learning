{
  "cells": [
    {
      "cell_type": "code",
      "execution_count": 1,
      "metadata": {
        "id": "BJYGL7GhxVvB",
        "colab": {
          "base_uri": "https://localhost:8080/"
        },
        "outputId": "5ba7b9be-0710-4f6c-d96e-e28fd192932c"
      },
      "outputs": [
        {
          "output_type": "stream",
          "name": "stdout",
          "text": [
            "Collecting mahotas\n",
            "  Downloading mahotas-1.4.18-cp312-cp312-manylinux_2_17_x86_64.manylinux2014_x86_64.whl.metadata (14 kB)\n",
            "Requirement already satisfied: gdown in /usr/local/lib/python3.12/dist-packages (5.2.0)\n",
            "Requirement already satisfied: tqdm in /usr/local/lib/python3.12/dist-packages (4.67.1)\n",
            "Requirement already satisfied: numpy in /usr/local/lib/python3.12/dist-packages (from mahotas) (2.0.2)\n",
            "Requirement already satisfied: beautifulsoup4 in /usr/local/lib/python3.12/dist-packages (from gdown) (4.13.5)\n",
            "Requirement already satisfied: filelock in /usr/local/lib/python3.12/dist-packages (from gdown) (3.20.0)\n",
            "Requirement already satisfied: requests[socks] in /usr/local/lib/python3.12/dist-packages (from gdown) (2.32.4)\n",
            "Requirement already satisfied: soupsieve>1.2 in /usr/local/lib/python3.12/dist-packages (from beautifulsoup4->gdown) (2.8)\n",
            "Requirement already satisfied: typing-extensions>=4.0.0 in /usr/local/lib/python3.12/dist-packages (from beautifulsoup4->gdown) (4.15.0)\n",
            "Requirement already satisfied: charset_normalizer<4,>=2 in /usr/local/lib/python3.12/dist-packages (from requests[socks]->gdown) (3.4.4)\n",
            "Requirement already satisfied: idna<4,>=2.5 in /usr/local/lib/python3.12/dist-packages (from requests[socks]->gdown) (3.11)\n",
            "Requirement already satisfied: urllib3<3,>=1.21.1 in /usr/local/lib/python3.12/dist-packages (from requests[socks]->gdown) (2.5.0)\n",
            "Requirement already satisfied: certifi>=2017.4.17 in /usr/local/lib/python3.12/dist-packages (from requests[socks]->gdown) (2025.10.5)\n",
            "Requirement already satisfied: PySocks!=1.5.7,>=1.5.6 in /usr/local/lib/python3.12/dist-packages (from requests[socks]->gdown) (1.7.1)\n",
            "Downloading mahotas-1.4.18-cp312-cp312-manylinux_2_17_x86_64.manylinux2014_x86_64.whl (5.8 MB)\n",
            "\u001b[2K   \u001b[90m━━━━━━━━━━━━━━━━━━━━━━━━━━━━━━━━━━━━━━━━\u001b[0m \u001b[32m5.8/5.8 MB\u001b[0m \u001b[31m30.4 MB/s\u001b[0m eta \u001b[36m0:00:00\u001b[0m\n",
            "\u001b[?25hInstalling collected packages: mahotas\n",
            "Successfully installed mahotas-1.4.18\n"
          ]
        }
      ],
      "source": [
        "# Instala o pacote mahotas\n",
        "!pip install mahotas gdown tqdm"
      ]
    },
    {
      "cell_type": "code",
      "execution_count": 2,
      "metadata": {
        "id": "qRdcnDoLA0Y9"
      },
      "outputs": [],
      "source": [
        "# Importa os pacotes necessários\n",
        "import mahotas\n",
        "import os\n",
        "import cv2\n",
        "import numpy as np\n",
        "from google.colab.patches import cv2_imshow\n",
        "from sklearn.tree import DecisionTreeClassifier\n",
        "from sklearn.metrics import classification_report\n",
        "from sklearn.model_selection import train_test_split\n",
        "from sklearn import tree\n",
        "import matplotlib.pyplot as plt\n",
        "import gdown\n",
        "from tqdm.auto import tqdm"
      ]
    },
    {
      "cell_type": "markdown",
      "source": [
        "# Tarefa\n",
        "\n",
        "1. Divida o conjunto de dados 4scenes em 3 subconjuntos disjuntos: Treinamento (70%), Validação (15%) e Teste (15%).\n",
        "f\n",
        "2. Utilize o conjunto de validação para selecionar os melhores hiperparâmetros para os seguintes algoritmos de AM:\n",
        "\n",
        "- [k-NN](https://scikit-learn.org/stable/modules/generated/sklearn.neighbors.KNeighborsClassifier.html): use o conjunto de validação para selecionar o melhor valor do hiperparâmetro k (número de vizinhos mais próximos).\n",
        "- [Árvore de decisão](https://scikit-learn.org/stable/modules/generated/sklearn.tree.DecisionTreeClassifier.html):use o conjunto de validação para selecionar o melhor valor do hiperparâmetro max_depth (profundidade da árvore).\n",
        "\n",
        "Isto é, treine os modelos com o conjunto de treinamento e observe as suas performances no conjunto de validação para diferentes valores do hiperparâmetro em questão. Selecione a melhor configuração.\n",
        "\n",
        "Plotar a accurácia (eixo y)  e hiperparâmetro (eixo x) considerando o conjunto de validação.\n",
        "\n",
        "3. Treine os seguintes modelos com a união dos subconjuntos Treinamento + Validação. No caso do k-NN e da Árvore de Decisão utilize os hiperparâmetros selecionados no item anterior.\n",
        "- [k-NN](https://scikit-learn.org/stable/modules/generated/sklearn.neighbors.KNeighborsClassifier.html)\n",
        "- [Árvore de decisão](https://scikit-learn.org/stable/modules/generated/sklearn.tree.DecisionTreeClassifier.html)\n",
        "\n",
        "4. Compare a performance do k-NN e da Árvore de Decisão utilizando o conjunto de Teste e a função `classification_report` e também observando a matriz de confusão.\n",
        "\n",
        "**Entregáveis**:\n",
        "\n",
        "1. Código (notebook `*.ipynb`).\n",
        "\n",
        "2. Relatório `*.pdf` (compile seus resultados e inclua as figuras)."
      ],
      "metadata": {
        "id": "cJe9v00Xg6Gf"
      }
    },
    {
      "cell_type": "code",
      "source": [
        "# ===================================================================\n",
        "# ETAPA 1: INSTALAÇÃO DE DEPENDÊNCIAS E DOWNLOAD DOS DADOS\n",
        "# ===================================================================\n",
        "\n",
        "!pip install gdown\n",
        "!pip install mahotas\n",
        "\n",
        "import gdown\n",
        "import os\n",
        "\n",
        "url = 'https://drive.google.com/uc?id=1bHHgeZ3H75oigySkcZG0S98unOJNft0b'\n",
        "output = '4scenes.zip'\n",
        "\n",
        "print(\"[INFO] Iniciando o download do dataset...\")\n",
        "gdown.download(url=url, output=output, quiet=False, fuzzy=True)\n",
        "\n",
        "print(\"\\n[INFO] Descompactando o dataset...\")\n",
        "!unzip -o -q 4scenes.zip\n",
        "\n",
        "!rm 4scenes.zip\n",
        "print(\"Dataset pronto!\")\n",
        "\n",
        "import mahotas\n",
        "import cv2\n",
        "import numpy as np\n",
        "from sklearn.neighbors import KNeighborsClassifier\n",
        "from sklearn.tree import DecisionTreeClassifier\n",
        "from sklearn.metrics import classification_report, accuracy_score, confusion_matrix, ConfusionMatrixDisplay\n",
        "from sklearn.model_selection import train_test_split\n",
        "import matplotlib.pyplot as plt\n",
        "from tqdm.auto import tqdm\n",
        "\n",
        "# EXTRAÇÃO DE CARACTERÍSTICAS\n",
        "\n",
        "def describe(image):\n",
        "    (means, stds) = cv2.meanStdDev(cv2.cvtColor(image, cv2.COLOR_BGR2HSV))\n",
        "    colorStats = np.concatenate([means, stds]).flatten()\n",
        "\n",
        "    gray = cv2.cvtColor(image, cv2.COLOR_BGR2GRAY)\n",
        "    haralick = mahotas.features.haralick(gray).mean(axis=0)\n",
        "\n",
        "    return np.hstack([colorStats, haralick])\n",
        "\n",
        "# CARREGAMENTO DOS DADOS E EXTRAÇÃO DE FEATURES\n",
        "\n",
        "imagesPath = './4scenes'\n",
        "\n",
        "labels = []\n",
        "data = []\n",
        "\n",
        "files = os.listdir(imagesPath)\n",
        "\n",
        "print(\"[ETAPA 4] Extraindo features...\") # Adicionado um print para dar feedback\n",
        "\n",
        "# Iterando diretamente sobre a lista 'files', sem o tqdm\n",
        "for image_name in files:\n",
        "    label = image_name.split(\"_\")[0]\n",
        "    image = cv2.imread(os.path.join(imagesPath, image_name))\n",
        "    # Adiciona uma verificação para o caso de a imagem não carregar\n",
        "    if image is None:\n",
        "        print(f\"Aviso: Não foi possível carregar a imagem {image_name}\")\n",
        "        continue # Pula para a próxima imagem\n",
        "    features = describe(image) # Supondo que a função describe() está definida antes\n",
        "    labels.append(label)\n",
        "    data.append(features)\n",
        "\n",
        "data = np.array(data)\n",
        "labels = np.array(labels)\n",
        "\n",
        "print(\"Extração de features concluída!\") # Adicionado um print no final\n"
      ],
      "metadata": {
        "colab": {
          "base_uri": "https://localhost:8080/"
        },
        "id": "wWc5-29gS4Js",
        "outputId": "1ca62972-d707-4ef1-fd3f-4d186b275aa2"
      },
      "execution_count": 4,
      "outputs": [
        {
          "output_type": "stream",
          "name": "stdout",
          "text": [
            "Requirement already satisfied: gdown in /usr/local/lib/python3.12/dist-packages (5.2.0)\n",
            "Requirement already satisfied: beautifulsoup4 in /usr/local/lib/python3.12/dist-packages (from gdown) (4.13.5)\n",
            "Requirement already satisfied: filelock in /usr/local/lib/python3.12/dist-packages (from gdown) (3.20.0)\n",
            "Requirement already satisfied: requests[socks] in /usr/local/lib/python3.12/dist-packages (from gdown) (2.32.4)\n",
            "Requirement already satisfied: tqdm in /usr/local/lib/python3.12/dist-packages (from gdown) (4.67.1)\n",
            "Requirement already satisfied: soupsieve>1.2 in /usr/local/lib/python3.12/dist-packages (from beautifulsoup4->gdown) (2.8)\n",
            "Requirement already satisfied: typing-extensions>=4.0.0 in /usr/local/lib/python3.12/dist-packages (from beautifulsoup4->gdown) (4.15.0)\n",
            "Requirement already satisfied: charset_normalizer<4,>=2 in /usr/local/lib/python3.12/dist-packages (from requests[socks]->gdown) (3.4.4)\n",
            "Requirement already satisfied: idna<4,>=2.5 in /usr/local/lib/python3.12/dist-packages (from requests[socks]->gdown) (3.11)\n",
            "Requirement already satisfied: urllib3<3,>=1.21.1 in /usr/local/lib/python3.12/dist-packages (from requests[socks]->gdown) (2.5.0)\n",
            "Requirement already satisfied: certifi>=2017.4.17 in /usr/local/lib/python3.12/dist-packages (from requests[socks]->gdown) (2025.10.5)\n",
            "Requirement already satisfied: PySocks!=1.5.7,>=1.5.6 in /usr/local/lib/python3.12/dist-packages (from requests[socks]->gdown) (1.7.1)\n",
            "Requirement already satisfied: mahotas in /usr/local/lib/python3.12/dist-packages (1.4.18)\n",
            "Requirement already satisfied: numpy in /usr/local/lib/python3.12/dist-packages (from mahotas) (2.0.2)\n",
            "[INFO] Iniciando o download do dataset...\n"
          ]
        },
        {
          "output_type": "stream",
          "name": "stderr",
          "text": [
            "Downloading...\n",
            "From (original): https://drive.google.com/uc?id=1bHHgeZ3H75oigySkcZG0S98unOJNft0b\n",
            "From (redirected): https://drive.google.com/uc?id=1bHHgeZ3H75oigySkcZG0S98unOJNft0b&confirm=t&uuid=696297f0-5ffe-40ad-89b7-85510ee5caf9\n",
            "To: /content/4scenes.zip\n",
            "100%|██████████| 54.8M/54.8M [00:01<00:00, 41.6MB/s]\n"
          ]
        },
        {
          "output_type": "stream",
          "name": "stdout",
          "text": [
            "\n",
            "[INFO] Descompactando o dataset...\n",
            "Dataset pronto!\n",
            "[ETAPA 4] Extraindo features...\n",
            "Extração de features concluída!\n"
          ]
        }
      ]
    },
    {
      "cell_type": "code",
      "source": [
        "# DIVISÃO DO DATASET\n",
        "print(\"\\n[ETAPA 5] Dividindo o dataset...\")\n",
        "\n",
        "(trainData, tempData, trainLabels, tempLabels) = train_test_split(\n",
        "    data, labels, test_size=0.30, random_state=42, stratify=labels\n",
        ")\n",
        "\n",
        "(valData, testData, valLabels, testLabels) = train_test_split(\n",
        "    tempData, tempLabels, test_size=0.50, random_state=42, stratify=tempLabels\n",
        ")\n",
        "\n",
        "print(f\"Treinamento: {len(trainData)} amostras\")\n",
        "print(f\"Validação: {len(valData)} amostras\")\n",
        "print(f\"Teste: {len(testData)} amostras\")\n",
        "\n"
      ],
      "metadata": {
        "id": "SM70YVf1TCz2"
      },
      "execution_count": null,
      "outputs": []
    },
    {
      "cell_type": "code",
      "source": [
        "# HIPERPARÂMETROS (TUNING)\n",
        "print(\"\\n[ETAPA 6] Buscando melhores hiperparâmetros...\")\n",
        "\n",
        "k_values = range(1, 31)\n",
        "knn_accuracies = []\n",
        "\n",
        "for k in k_values:\n",
        "    model = KNeighborsClassifier(n_neighbors=k)\n",
        "    model.fit(trainData, trainLabels)\n",
        "    predictions = model.predict(valData)\n",
        "    knn_accuracies.append(accuracy_score(valLabels, predictions))\n",
        "\n",
        "best_k = k_values[np.argmax(knn_accuracies)]\n",
        "print(f\"Melhor 'k' para o k-NN: {best_k} (Acurácia de Validação: {max(knn_accuracies):.2%})\")\n",
        "\n",
        "depth_values = range(1, 31)\n",
        "dt_accuracies = []\n",
        "\n",
        "for depth in depth_values:\n",
        "    model = DecisionTreeClassifier(max_depth=depth, random_state=42)\n",
        "    model.fit(trainData, trainLabels)\n",
        "    predictions = model.predict(valData)\n",
        "    dt_accuracies.append(accuracy_score(valLabels, predictions))\n",
        "\n",
        "best_depth = depth_values[np.argmax(dt_accuracies)]\n",
        "print(f\"Melhor 'max_depth' para a Árvore de Decisão: {best_depth} (Acurácia de Validação: {max(dt_accuracies):.2%})\")\n",
        "\n"
      ],
      "metadata": {
        "id": "zHJxtEifTITb"
      },
      "execution_count": null,
      "outputs": []
    },
    {
      "cell_type": "code",
      "source": [
        "\n",
        "# VISUALIZAÇÃO DOS RESULTADOS DO TUNING\n",
        "print(\"\\n[ETAPA 7] Gerando gráficos de acurácia...\")\n",
        "\n",
        "plt.style.use('ggplot')\n",
        "fig, (ax1, ax2) = plt.subplots(1, 2, figsize=(16, 6))\n",
        "\n",
        "ax1.plot(k_values, knn_accuracies, marker='o')\n",
        "ax1.set_title('Acurácia de Validação vs. Valor de K (k-NN)')\n",
        "ax1.set_xlabel('Valor de K')\n",
        "ax1.set_ylabel('Acurácia')\n",
        "ax1.axvline(best_k, color='r', linestyle='--', label=f'Melhor K = {best_k}')\n",
        "ax1.legend()\n",
        "\n",
        "ax2.plot(depth_values, dt_accuracies, marker='o', color='darkgreen')\n",
        "ax2.set_title('Acurácia de Validação vs. Profundidade (Árvore de Decisão)')\n",
        "ax2.set_xlabel('Profundidade Máxima (max_depth)')\n",
        "ax2.set_ylabel('Acurácia')\n",
        "ax2.axvline(best_depth, color='r', linestyle='--', label=f'Melhor Profundidade = {best_depth}')\n",
        "ax2.legend()\n",
        "\n",
        "plt.tight_layout()\n",
        "plt.show()\n"
      ],
      "metadata": {
        "id": "AiTGMp95TR1I"
      },
      "execution_count": null,
      "outputs": []
    },
    {
      "cell_type": "code",
      "source": [
        "# REINAMENTO DOS MODELOS FINAIS\n",
        "print(\"\\n[ETAPA 8] Treinando modelos finais...\")\n",
        "finalTrainData = np.concatenate((trainData, valData))\n",
        "finalTrainLabels = np.concatenate((trainLabels, valLabels))\n",
        "\n",
        "knn_final_model = KNeighborsClassifier(n_neighbors=best_k)\n",
        "knn_final_model.fit(finalTrainData, finalTrainLabels)\n",
        "print(\"Modelo k-NN final treinado com sucesso!\")\n",
        "\n",
        "dt_final_model = DecisionTreeClassifier(max_depth=best_depth, random_state=42)\n",
        "dt_final_model.fit(finalTrainData, finalTrainLabels)\n",
        "print(\"Modelo de Árvore de Decisão final treinado com sucesso!\")"
      ],
      "metadata": {
        "id": "MvM9h6vPTX-U"
      },
      "execution_count": null,
      "outputs": []
    },
    {
      "cell_type": "code",
      "source": [
        "# AVALIAÇÃO E COMPARAÇÃO FINAL\n",
        "print(\"\\n[ETAPA 9] Avaliando performance no conjunto de TESTE...\")\n",
        "\n",
        "knn_predictions = knn_final_model.predict(testData)\n",
        "\n",
        "print(\"\\n--- RELATÓRIO DE CLASSIFICAÇÃO - K-NN ---\")\n",
        "print(classification_report(testLabels, knn_predictions))\n",
        "\n",
        "dt_predictions = dt_final_model.predict(testData)\n",
        "\n",
        "print(\"\\n--- RELATÓRIO DE CLASSIFICAÇÃO - ÁRVORE DE DECISÃO ---\")\n",
        "print(classification_report(testLabels, dt_predictions))\n",
        "\n",
        "\n",
        "print(\"\\nGerando Matrizes de Confusão...\")\n",
        "fig, (ax1, ax2) = plt.subplots(1, 2, figsize=(15, 6))\n",
        "\n",
        "ConfusionMatrixDisplay.from_estimator(knn_final_model, testData, testLabels, ax=ax1, cmap=plt.cm.Blues)\n",
        "ax1.set_title('Matriz de Confusão - k-NN')\n",
        "\n",
        "ConfusionMatrixDisplay.from_estimator(dt_final_model, testData, testLabels, ax=ax2, cmap=plt.cm.Greens)\n",
        "ax2.set_title('Matriz de Confusão - Árvore de Decisão')\n",
        "\n",
        "plt.show()"
      ],
      "metadata": {
        "id": "MKiZuNDvO7DM"
      },
      "execution_count": null,
      "outputs": []
    }
  ],
  "metadata": {
    "colab": {
      "provenance": []
    },
    "kernelspec": {
      "display_name": "Python 3",
      "name": "python3"
    }
  },
  "nbformat": 4,
  "nbformat_minor": 0
}