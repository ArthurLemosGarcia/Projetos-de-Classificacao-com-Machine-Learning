{
  "cells": [
    {
      "cell_type": "markdown",
      "metadata": {
        "id": "1FOr0RWKQ_FZ"
      },
      "source": [
        " # Tarefa\n",
        "\n",
        "1. Teste outras métricas para o [kNN](https://scikit-learn.org/stable/modules/generated/sklearn.metrics.pairwise.distance_metrics.html#sklearn.metrics.pairwise.distance_metrics) nos dados SMS Spam Collection Data Set. Qual métrica obteve a melhor acurácia? Compare o desempenho do kNN ao Naive Bayes nesse problema utilizando a medida f1, precisão e revocação.\n",
        "\n",
        "    - Observação:\n",
        "        - Divida o conjunto de dados SMS Spam Collection em 3 subconjuntos disjuntos (estratificada): Treinamento (70%), Validação (15%) e Teste (15%).\n",
        "        - Treine o modelo com o conjunto de Treinamento (70%).\n",
        "        - Selecione a melhor métrica de acordo com o desempenho do modelo no conjunto de Validação (15%).\n",
        "        - Treine o melhor modelo no conjunto Treinamento (70%) + Validação (15%).\n",
        "        - Reporte a performance obtida no conjunto de Teste (15%) a medida f1, precisão e revocação.\n",
        "\n",
        "2. Carregue o conjunto de dados Optical Recognition of Handwritten Digits (ORHD) do UCI Machine Learning\n",
        "[link](https://archive.ics.uci.edu/dataset/80/optical+recognition+of+handwritten+digits)\n",
        "\n",
        "- lembre-se de instalar a biblioteca:\n",
        "\n",
        "    `!pip install ucimlrepo`\n",
        "\n",
        "- Para carregar a base de dados utilize:\n",
        "\n",
        "    ```python\n",
        "    ORHD = fetch_ucirepo(id=80)\n",
        "    ```\n",
        "\n",
        "- Pré-processe os dados:\n",
        "\n",
        "    ```python\n",
        "    features = ORHD.data.features.to_numpy().astype(np.float32) / 16.  # normaliza para o intervalo [0, 1]\n",
        "    targets  = ORHD.data.targets.to_numpy().astype(np.int64)\n",
        "    ```\n",
        "\n",
        "- Transforme os dados (características/features/atributos de entrada) em valores binários:\n",
        "\n",
        "    - feature >= 0.5 deverá ser mapeado para 1\n",
        "\n",
        "    - feature < 0.5 deverá ser mapeado para 0\n",
        "\n",
        "- Divida o conjunto de dados Optical Recognition of Handwritten Digits (ORHD) em 3 subconjuntos disjuntos: Treinamento (70%), Validação (15%) e Teste (15%).\n",
        "\n",
        "- Treine um modelo Naive Bayes (Bernoulli) com o conjunto Treinamento (70%) + Validação (15%).\n",
        "\n",
        "- Calcule as acurácias (conjunto de Teste (15%)) e a matriz de confusão.\n",
        "\n",
        "- Treine um modelo k-NN nos mesmos dados Optical Recognition of Handwritten Digits (ORHD) binarizados e compare os resultados com o Naive Bayes.\n",
        "\n",
        "    - Observação:\n",
        "        - Treine o k-NN com o conjunto de Treinamento (70%).\n",
        "        - Selecione a melhor métrica e melhor número de vizinhos de acordo com o desempenho do modelo no conjunto de Validação (15%).\n",
        "        - Treine o melhor modelo no conjunto Treinamento (70%) + Validação (15%).\n",
        "        - Reporte a performance obtida no conjunto de Teste (15%).\n",
        "\n",
        "**Entregáveis**:\n",
        "\n",
        "1. Código (notebook `*.ipynb`).\n",
        "\n",
        "2. Relatório `*.pdf` (compile seus resultados e inclua as figuras)."
      ]
    },
    {
      "cell_type": "code",
      "source": [
        "# IMPORTAÇÃO DAS BIBLIOTECAS\n",
        "import pandas as pd\n",
        "import numpy as np\n",
        "from sklearn.model_selection import train_test_split\n",
        "from sklearn.feature_extraction.text import CountVectorizer\n",
        "from sklearn.naive_bayes import BernoulliNB\n",
        "from sklearn.neighbors import KNeighborsClassifier\n",
        "from sklearn.metrics import accuracy_score, classification_report, confusion_matrix, ConfusionMatrixDisplay\n",
        "import matplotlib.pyplot as plt\n",
        "import seaborn as sns\n",
        "from tqdm.auto import tqdm\n",
        "!pip install ucimlrepo -q\n",
        "from ucimlrepo import fetch_ucirepo\n"
      ],
      "metadata": {
        "id": "4T4E0C2DGiKJ"
      },
      "execution_count": 8,
      "outputs": []
    },
    {
      "cell_type": "code",
      "source": [
        "# PRÉ-PROCESSAMENTO DOS DADOS DE SPAM\n",
        "url_spam = \"https://raw.githubusercontent.com/justmarkham/pycon-2016-tutorial/master/data/sms.tsv\"\n",
        "df_spam = pd.read_csv(url_spam, sep='\\t', header=None, names=['label', 'message'])\n",
        "df_spam['label'] = df_spam['label'].map({'ham': 0, 'spam': 1})\n",
        "X_spam = df_spam['message']\n",
        "y_spam = df_spam['label']\n"
      ],
      "metadata": {
        "id": "1UaifFCsO1mj"
      },
      "execution_count": 9,
      "outputs": []
    },
    {
      "cell_type": "code",
      "source": [
        "# DIVISÃO DO DATASET DE SPAM\n",
        "print(\"\\n[ETAPA 1.2] Dividindo o dataset de SPAM em Treino, Validação e Teste...\")\n",
        "\n",
        "X_train_spam_temp, X_temp_spam, y_train_spam, y_temp_spam = train_test_split(\n",
        "    X_spam, y_spam, test_size=0.30, random_state=42, stratify=y_spam\n",
        ")\n",
        "X_val_spam, X_test_spam, y_val_spam, y_test_spam = train_test_split(\n",
        "    X_temp_spam, y_temp_spam, test_size=0.50, random_state=42, stratify=y_temp_spam\n",
        ")\n",
        "\n",
        "print(f\"Tamanho do conjunto de Treinamento: {len(X_train_spam_temp)} amostras\")\n",
        "print(f\"Tamanho do conjunto de Validação: {len(X_val_spam)} amostras\")\n",
        "print(f\"Tamanho do conjunto de Teste: {len(X_test_spam)} amostras\")\n"
      ],
      "metadata": {
        "colab": {
          "base_uri": "https://localhost:8080/"
        },
        "id": "Pxfci6KZO1zx",
        "outputId": "4f8a6791-6afc-447d-c1cf-12a6d39d948d"
      },
      "execution_count": 10,
      "outputs": [
        {
          "output_type": "stream",
          "name": "stdout",
          "text": [
            "\n",
            "[ETAPA 1.2] Dividindo o dataset de SPAM em Treino, Validação e Teste...\n",
            "Tamanho do conjunto de Treinamento: 3900 amostras\n",
            "Tamanho do conjunto de Validação: 836 amostras\n",
            "Tamanho do conjunto de Teste: 836 amostras\n"
          ]
        }
      ]
    },
    {
      "cell_type": "code",
      "source": [
        "# VETORIZAÇÃO DOS DADOS DE TEXTO\n",
        "print(\"\\n[ETAPA 1.3] Transformando texto em vetores numéricos (CountVectorizer)...\")\n",
        "\n",
        "vectorizer = CountVectorizer(binary=True)\n",
        "X_train_vec_spam = vectorizer.fit_transform(X_train_spam_temp).toarray()\n",
        "X_val_vec_spam = vectorizer.transform(X_val_spam).toarray()\n",
        "print(\"Vetorização concluída!\")"
      ],
      "metadata": {
        "colab": {
          "base_uri": "https://localhost:8080/"
        },
        "id": "5FMmamKAO_1X",
        "outputId": "a0216b9d-349b-404d-a7eb-5e1c90adfee0"
      },
      "execution_count": 11,
      "outputs": [
        {
          "output_type": "stream",
          "name": "stdout",
          "text": [
            "\n",
            "[ETAPA 1.3] Transformando texto em vetores numéricos (CountVectorizer)...\n",
            "Vetorização concluída!\n"
          ]
        }
      ]
    },
    {
      "cell_type": "code",
      "source": [
        "# SELECIONE A MELHOR MÉTRICA (CONJUNTO DE VALIDAÇÃO)\n",
        "print(\"\\n[ETAPA 1.4] Selecionando a melhor métrica para o k-NN no conjunto de Validação...\")\n",
        "\n",
        "metrics_to_test = ['euclidean', 'manhattan', 'chebyshev', 'minkowski']\n",
        "knn_accuracies = {}\n",
        "\n",
        "for metric in tqdm(metrics_to_test, desc=\"Testando métricas do k-NN\"):\n",
        "    knn = KNeighborsClassifier(n_neighbors=5, metric=metric)\n",
        "    knn.fit(X_train_vec_spam, y_train_spam)\n",
        "    y_pred_val = knn.predict(X_val_vec_spam)\n",
        "    accuracy = accuracy_score(y_val_spam, y_pred_val)\n",
        "    knn_accuracies[metric] = accuracy\n",
        "    print(f\"Acurácia com a métrica '{metric}': {accuracy:.4f}\")"
      ],
      "metadata": {
        "colab": {
          "base_uri": "https://localhost:8080/",
          "height": 160,
          "referenced_widgets": [
            "79727391eff54ecf9eebe3267d765bf6",
            "d05fcd2540f140e09c2f04baed5e410c",
            "c74f2e61df514852bfe897af6d436ead",
            "81ba45b17add4285ab924d0308a21dd5",
            "8f4d9ab885a241b9875cd73454703e16",
            "03d1dde87804441c86f85f53790f2e5a",
            "92bccfa590d549bfae0a5f9b5b479c83",
            "f441b8de1d4e4581b9bf676e0a856928",
            "55d08fcdf0e44977bf8e9043c54ab65f",
            "e0c16158d1994adfa229bd0913448d94",
            "065e9fb50b9340d89ce747351c50c5ff"
          ]
        },
        "id": "Vgd17XFaPCy0",
        "outputId": "f5a65b30-7a68-4af8-a82a-469301e53cbf"
      },
      "execution_count": 12,
      "outputs": [
        {
          "output_type": "stream",
          "name": "stdout",
          "text": [
            "\n",
            "[ETAPA 1.4] Selecionando a melhor métrica para o k-NN no conjunto de Validação...\n"
          ]
        },
        {
          "output_type": "display_data",
          "data": {
            "text/plain": [
              "Testando métricas do k-NN:   0%|          | 0/4 [00:00<?, ?it/s]"
            ],
            "application/vnd.jupyter.widget-view+json": {
              "version_major": 2,
              "version_minor": 0,
              "model_id": "79727391eff54ecf9eebe3267d765bf6"
            }
          },
          "metadata": {}
        },
        {
          "output_type": "stream",
          "name": "stdout",
          "text": [
            "Acurácia com a métrica 'euclidean': 0.9151\n",
            "Acurácia com a métrica 'manhattan': 0.9151\n",
            "Acurácia com a métrica 'chebyshev': 0.8660\n",
            "Acurácia com a métrica 'minkowski': 0.9151\n"
          ]
        }
      ]
    },
    {
      "cell_type": "code",
      "source": [
        "# REINE O MELHOR MODELO (TREINO + VALIDAÇÃO)\n",
        "print(\"\\n[ETAPA 1.5] Treinando os modelos finais com Treino + Validação...\")\n",
        "\n",
        "X_final_train_spam = pd.concat([X_train_spam_temp, X_val_spam])\n",
        "y_final_train_spam = pd.concat([y_train_spam, y_val_spam])\n",
        "\n",
        "vectorizer_final = CountVectorizer(binary=True)\n",
        "X_final_train_vec_spam = vectorizer_final.fit_transform(X_final_train_spam).toarray()\n",
        "X_test_vec_spam_final = vectorizer_final.transform(X_test_spam).toarray()\n",
        "\n",
        "knn_final = KNeighborsClassifier(n_neighbors=5, metric=best_metric_spam)\n",
        "knn_final.fit(X_final_train_vec_spam, y_final_train_spam)\n",
        "print(f\"Modelo k-NN (métrica='{best_metric_spam}') treinado com sucesso!\")\n",
        "\n",
        "nb_final = BernoulliNB()\n",
        "nb_final.fit(X_final_train_vec_spam, y_final_train_spam)\n",
        "print(\"Modelo Naive Bayes treinado com sucesso!\")"
      ],
      "metadata": {
        "colab": {
          "base_uri": "https://localhost:8080/"
        },
        "id": "XqFQZGg8PJ_P",
        "outputId": "9c7dc950-c121-4e9e-ed4d-625be371ddf3"
      },
      "execution_count": 13,
      "outputs": [
        {
          "output_type": "stream",
          "name": "stdout",
          "text": [
            "\n",
            "[ETAPA 1.5] Treinando os modelos finais com Treino + Validação...\n",
            "Modelo k-NN (métrica='euclidean') treinado com sucesso!\n",
            "Modelo Naive Bayes treinado com sucesso!\n"
          ]
        }
      ]
    },
    {
      "cell_type": "code",
      "source": [
        "\n",
        "# REPORTE A PERFORMANCE (CONJUNTO DE TESTE) ---\n",
        "print(\"\\n[ETAPA 1.6] Comparando a performance dos modelos no conjunto de Teste...\")\n",
        "\n",
        "y_pred_knn_spam = knn_final.predict(X_test_vec_spam_final)\n",
        "y_pred_nb_spam = nb_final.predict(X_test_vec_spam_final)\n",
        "\n",
        "print(\"\\n--- RELATÓRIO DE CLASSIFICAÇÃO - K-NN (Melhor Métrica) ---\")\n",
        "print(classification_report(y_test_spam, y_pred_knn_spam, target_names=['Ham', 'Spam']))\n",
        "\n",
        "print(\"\\n--- RELATÓRIO DE CLASSIFICAÇÃO - NAIVE BAYES ---\")\n",
        "print(classification_report(y_test_spam, y_pred_nb_spam, target_names=['Ham', 'Spam']))\n",
        "\n"
      ],
      "metadata": {
        "colab": {
          "base_uri": "https://localhost:8080/"
        },
        "id": "IOvZ8Lq-CzGF",
        "outputId": "bb45c656-b4ed-43de-917d-603034979731"
      },
      "execution_count": 15,
      "outputs": [
        {
          "output_type": "stream",
          "name": "stdout",
          "text": [
            "\n",
            "[ETAPA 1.6] Comparando a performance dos modelos no conjunto de Teste...\n",
            "\n",
            "--- RELATÓRIO DE CLASSIFICAÇÃO - K-NN (Melhor Métrica) ---\n",
            "              precision    recall  f1-score   support\n",
            "\n",
            "         Ham       0.92      1.00      0.96       724\n",
            "        Spam       1.00      0.46      0.63       112\n",
            "\n",
            "    accuracy                           0.93       836\n",
            "   macro avg       0.96      0.73      0.79       836\n",
            "weighted avg       0.93      0.93      0.91       836\n",
            "\n",
            "\n",
            "--- RELATÓRIO DE CLASSIFICAÇÃO - NAIVE BAYES ---\n",
            "              precision    recall  f1-score   support\n",
            "\n",
            "         Ham       0.98      1.00      0.99       724\n",
            "        Spam       1.00      0.89      0.94       112\n",
            "\n",
            "    accuracy                           0.99       836\n",
            "   macro avg       0.99      0.95      0.97       836\n",
            "weighted avg       0.99      0.99      0.99       836\n",
            "\n"
          ]
        }
      ]
    },
    {
      "cell_type": "code",
      "source": [
        "# CARREGAMENTO E PRÉ-PROCESSAMENTO DO DATASET ORHD ---\n",
        "print(\"\\n[ETAPA 2.1] Carregando e pré-processando o dataset ORHD...\")\n",
        "\n",
        "ORHD = fetch_ucirepo(id=80)\n",
        "features = ORHD.data.features.to_numpy().astype(np.float32) / 16.\n",
        "targets = ORHD.data.targets.to_numpy().ravel().astype(np.int64)\n",
        "features_bin = np.where(features >= 0.5, 1, 0)\n",
        "print(\"Dataset carregado e binarizado!\")\n"
      ],
      "metadata": {
        "colab": {
          "base_uri": "https://localhost:8080/"
        },
        "id": "8EMCcP3XPZca",
        "outputId": "09eab524-5962-4cc6-85dc-819aaa071248"
      },
      "execution_count": 16,
      "outputs": [
        {
          "output_type": "stream",
          "name": "stdout",
          "text": [
            "\n",
            "[ETAPA 2.1] Carregando e pré-processando o dataset ORHD...\n",
            "Dataset carregado e binarizado!\n"
          ]
        }
      ]
    },
    {
      "cell_type": "code",
      "source": [
        "# DIVISÃO DO DATASET ORHD (70/15/15) ---\n",
        "print(\"\\n[ETAPA 2.2] Dividindo o dataset ORHD em Treino, Validação e Teste...\")\n",
        "\n",
        "X_train_dig_temp, X_temp_dig, y_train_dig_temp, y_temp_dig = train_test_split(\n",
        "    features_bin, targets, test_size=0.30, random_state=42, stratify=targets\n",
        ")\n",
        "X_val_dig, X_test_dig, y_val_dig, y_test_dig = train_test_split(\n",
        "    X_temp_dig, y_temp_dig, test_size=0.50, random_state=42, stratify=y_temp_dig\n",
        ")\n",
        "\n",
        "print(f\"Tamanho do conjunto de Treinamento: {len(X_train_dig_temp)} amostras\")\n",
        "print(f\"Tamanho do conjunto de Validação: {len(X_val_dig)} amostras\")\n",
        "print(f\"Tamanho do conjunto de Teste: {len(X_test_dig)} amostras\")"
      ],
      "metadata": {
        "colab": {
          "base_uri": "https://localhost:8080/"
        },
        "id": "5E_sGe8ePdW1",
        "outputId": "1cfea66f-c67a-4279-8648-3e7272270278"
      },
      "execution_count": 17,
      "outputs": [
        {
          "output_type": "stream",
          "name": "stdout",
          "text": [
            "\n",
            "[ETAPA 2.2] Dividindo o dataset ORHD em Treino, Validação e Teste...\n",
            "Tamanho do conjunto de Treinamento: 3934 amostras\n",
            "Tamanho do conjunto de Validação: 843 amostras\n",
            "Tamanho do conjunto de Teste: 843 amostras\n"
          ]
        }
      ]
    },
    {
      "cell_type": "code",
      "source": [
        "\n",
        "# TREINAMENTO E AVALIAÇÃO DO NAIVE BAYES ---\n",
        "print(\"\\n[ETAPA 2.3] Treinando e avaliando o modelo Naive Bayes...\")\n",
        "\n",
        "X_final_train_dig_nb = np.concatenate((X_train_dig_temp, X_val_dig))\n",
        "y_final_train_dig_nb = np.concatenate((y_train_dig_temp, y_val_dig))\n",
        "\n",
        "nb_digits = BernoulliNB()\n",
        "nb_digits.fit(X_final_train_dig_nb, y_final_train_dig_nb)\n",
        "print(\"Modelo Naive Bayes treinado.\")\n",
        "\n",
        "y_pred_nb_dig = nb_digits.predict(X_test_dig)\n",
        "accuracy_nb_dig = accuracy_score(y_test_dig, y_pred_nb_dig)\n",
        "print(f\"\\nAcurácia do Naive Bayes no conjunto de Teste: {accuracy_nb_dig:.4f}\")\n",
        "\n",
        "print(\"Gerando Matriz de Confusão para o Naive Bayes...\")\n",
        "cm_nb_dig = confusion_matrix(y_test_dig, y_pred_nb_dig)\n",
        "plt.figure(figsize=(8, 6))\n",
        "sns.heatmap(cm_nb_dig, annot=True, fmt='d', cmap='Greens')\n",
        "plt.title('Matriz de Confusão - Naive Bayes (Dígitos)')\n",
        "plt.xlabel('Rótulo Predito')\n",
        "plt.ylabel('Rótulo Verdadeiro')\n",
        "plt.show()"
      ],
      "metadata": {
        "colab": {
          "base_uri": "https://localhost:8080/",
          "height": 676
        },
        "id": "JCFnGdTMPhBq",
        "outputId": "0ba4510d-1069-41ef-d9a6-39bb5479f406"
      },
      "execution_count": 18,
      "outputs": [
        {
          "output_type": "stream",
          "name": "stdout",
          "text": [
            "\n",
            "[ETAPA 2.3] Treinando e avaliando o modelo Naive Bayes...\n",
            "Modelo Naive Bayes treinado.\n",
            "\n",
            "Acurácia do Naive Bayes no conjunto de Teste: 0.8968\n",
            "Gerando Matriz de Confusão para o Naive Bayes...\n"
          ]
        },
        {
          "output_type": "display_data",
          "data": {
            "text/plain": [
              "<Figure size 800x600 with 2 Axes>"
            ],
            "image/png": "[encoded data removed]"
          },
          "metadata": {}
        }
      ]
    },
    {
      "cell_type": "code",
      "source": [
        "\n",
        "# SELECIONE OS MELHORES HIPERPARÂMETROS PARA O K-NN ---\n",
        "print(\"\\n[ETAPA 2.4] Buscando melhores hiperparâmetros para o k-NN (Dígitos)...\")\n",
        "\n",
        "k_values_dig = [1, 3, 5, 7]\n",
        "metrics_dig = ['euclidean', 'manhattan', 'chebyshev']\n",
        "best_knn_params_dig = {'k': 0, 'metric': '', 'accuracy': 0.0}\n",
        "\n",
        "for k in tqdm(k_values_dig, desc=\"Testando 'k'\"):\n",
        "    for metric in metrics_dig:\n",
        "        knn_dig = KNeighborsClassifier(n_neighbors=k, metric=metric)\n",
        "        knn_dig.fit(X_train_dig_temp, y_train_dig_temp)\n",
        "        y_pred_val_dig = knn_dig.predict(X_val_dig)\n",
        "        accuracy_val = accuracy_score(y_val_dig, y_pred_val_dig)\n",
        "\n",
        "        if accuracy_val > best_knn_params_dig['accuracy']:\n",
        "            best_knn_params_dig['accuracy'] = accuracy_val\n",
        "            best_knn_params_dig['k'] = k\n",
        "            best_knn_params_dig['metric'] = metric\n",
        "\n",
        "print(f\"\\nMelhores parâmetros para k-NN encontrados na validação:\")\n",
        "print(f\"  - Número de Vizinhos (k): {best_knn_params_dig['k']}\")\n",
        "print(f\"  - Métrica de Distância: '{best_knn_params_dig['metric']}'\")\n",
        "print(f\"  - Acurácia de Validação: {best_knn_params_dig['accuracy']:.4f}\")"
      ],
      "metadata": {
        "colab": {
          "base_uri": "https://localhost:8080/",
          "height": 178,
          "referenced_widgets": [
            "39a27f7b288b46c88dfd03e4a2ffcff0",
            "438ed87d8c554a9dbb5e5fdbe2adbaf2",
            "5561354bd07145f2aa36ec9b56b409df",
            "483526263b784197b3b74c137d24b75e",
            "57ba2986ae3c492ab5a6404b3c847249",
            "66f5f4377aeb4f4bbd1fc28a4f243deb",
            "a05ba280eb2e47428a013f679cb7008c",
            "fda199e550264eeeb012ec2eed3e7ee6",
            "14ad6abcbdfb487caadbbda50b6f3da3",
            "cc2424d5480042cab4d89a3ca285e7ea",
            "2af31558cb9f48baae266b22becfcb7c"
          ]
        },
        "id": "umxg6R44Pm2r",
        "outputId": "6a54494c-6858-4b46-8e0f-ae6d086def28"
      },
      "execution_count": 19,
      "outputs": [
        {
          "output_type": "stream",
          "name": "stdout",
          "text": [
            "\n",
            "[ETAPA 2.4] Buscando melhores hiperparâmetros para o k-NN (Dígitos)...\n"
          ]
        },
        {
          "output_type": "display_data",
          "data": {
            "text/plain": [
              "Testando 'k':   0%|          | 0/4 [00:00<?, ?it/s]"
            ],
            "application/vnd.jupyter.widget-view+json": {
              "version_major": 2,
              "version_minor": 0,
              "model_id": "39a27f7b288b46c88dfd03e4a2ffcff0"
            }
          },
          "metadata": {}
        },
        {
          "output_type": "stream",
          "name": "stdout",
          "text": [
            "\n",
            "Melhores parâmetros para k-NN encontrados na validação:\n",
            "  - Número de Vizinhos (k): 5\n",
            "  - Métrica de Distância: 'euclidean'\n",
            "  - Acurácia de Validação: 0.9573\n"
          ]
        }
      ]
    },
    {
      "cell_type": "code",
      "source": [
        "\n",
        "# TREINE E REPORTE A PERFORMANCE DO K-NN ---\n",
        "print(\"\\n[ETAPA 2.5] Treinando e avaliando o modelo k-NN final...\")\n",
        "\n",
        "X_final_train_dig_knn = np.concatenate((X_train_dig_temp, X_val_dig))\n",
        "y_final_train_dig_knn = np.concatenate((y_train_dig_temp, y_val_dig))\n",
        "\n",
        "knn_final_dig = KNeighborsClassifier(\n",
        "    n_neighbors=best_knn_params_dig['k'],\n",
        "    metric=best_knn_params_dig['metric']\n",
        ")\n",
        "knn_final_dig.fit(X_final_train_dig_knn, y_final_train_dig_knn)\n",
        "print(\"Modelo k-NN final treinado.\")\n",
        "\n",
        "y_pred_knn_dig = knn_final_dig.predict(X_test_dig)\n",
        "accuracy_knn_dig = accuracy_score(y_test_dig, y_pred_knn_dig)\n",
        "print(f\"\\nAcurácia do k-NN no conjunto de Teste: {accuracy_knn_dig:.4f}\")\n",
        "\n",
        "print(\"Gerando Matriz de Confusão para o k-NN...\")\n",
        "cm_knn_dig = confusion_matrix(y_test_dig, y_pred_knn_dig)\n",
        "plt.figure(figsize=(8, 6))\n",
        "sns.heatmap(cm_knn_dig, annot=True, fmt='d', cmap='Blues')\n",
        "plt.title('Matriz de Confusão - k-NN (Dígitos)')\n",
        "plt.xlabel('Rótulo Predito')\n",
        "plt.ylabel('Rótulo Verdadeiro')\n",
        "plt.show()\n"
      ],
      "metadata": {
        "colab": {
          "base_uri": "https://localhost:8080/",
          "height": 676
        },
        "id": "baTQwLVAPqaw",
        "outputId": "f08eec4a-d66d-48fa-d7d1-96afafb47cbe"
      },
      "execution_count": 20,
      "outputs": [
        {
          "output_type": "stream",
          "name": "stdout",
          "text": [
            "\n",
            "[ETAPA 2.5] Treinando e avaliando o modelo k-NN final...\n",
            "Modelo k-NN final treinado.\n",
            "\n",
            "Acurácia do k-NN no conjunto de Teste: 0.9609\n",
            "Gerando Matriz de Confusão para o k-NN...\n"
          ]
        },
        {
          "output_type": "display_data",
          "data": {
            "text/plain": [
              "<Figure size 800x600 with 2 Axes>"
            ],
            "image/png": "[encoded data removed]"
          },
          "metadata": {}
        }
      ]
    },
    {
      "cell_type": "code",
      "source": [
        "\n",
        "# COMPARAÇÃO FINAL\n",
        "print(\"\\n[ETAPA 2.6] Comparação Final - Dataset de Dígitos\")\n",
        "print(f\"  - Acurácia Final Naive Bayes: {accuracy_nb_dig:.4f}\")\n",
        "print(f\"  - Acurácia Final k-NN (Otimizado): {accuracy_knn_dig:.4f}\")"
      ],
      "metadata": {
        "colab": {
          "base_uri": "https://localhost:8080/"
        },
        "id": "Mvnqqna_GYJC",
        "outputId": "4ba1a121-0ba2-42f7-b493-369e8ffd6d36"
      },
      "execution_count": 24,
      "outputs": [
        {
          "output_type": "stream",
          "name": "stdout",
          "text": [
            "\n",
            "[ETAPA 2.6] Comparação Final - Dataset de Dígitos\n",
            "  - Acurácia Final Naive Bayes: 0.8968\n",
            "  - Acurácia Final k-NN (Otimizado): 0.9609\n"
          ]
        }
      ]
    }
  ],
  "metadata": {
    "colab": {
      "provenance": []
    },
    "kernelspec": {
      "display_name": "ai",
      "language": "python",
      "name": "python3"
    },
    "language_info": {
      "codemirror_mode": {
        "name": "ipython",
        "version": 3
      },
      "file_extension": ".py",
      "mimetype": "text/x-python",
      "name": "python",
      "nbconvert_exporter": "python",
      "pygments_lexer": "ipython3",
      "version": "3.13.5"
    },
    "widgets": {
      "application/vnd.jupyter.widget-state+json": {
        "79727391eff54ecf9eebe3267d765bf6": {
          "model_module": "@jupyter-widgets/controls",
          "model_name": "HBoxModel",
          "model_module_version": "1.5.0",
          "state": {
            "_dom_classes": [],
            "_model_module": "@jupyter-widgets/controls",
            "_model_module_version": "1.5.0",
            "_model_name": "HBoxModel",
            "_view_count": null,
            "_view_module": "@jupyter-widgets/controls",
            "_view_module_version": "1.5.0",
            "_view_name": "HBoxView",
            "box_style": "",
            "children": [
              "IPY_MODEL_d05fcd2540f140e09c2f04baed5e410c",
              "IPY_MODEL_c74f2e61df514852bfe897af6d436ead",
              "IPY_MODEL_81ba45b17add4285ab924d0308a21dd5"
            ],
            "layout": "IPY_MODEL_8f4d9ab885a241b9875cd73454703e16"
          }
        },
        "d05fcd2540f140e09c2f04baed5e410c": {
          "model_module": "@jupyter-widgets/controls",
          "model_name": "HTMLModel",
          "model_module_version": "1.5.0",
          "state": {
            "_dom_classes": [],
            "_model_module": "@jupyter-widgets/controls",
            "_model_module_version": "1.5.0",
            "_model_name": "HTMLModel",
            "_view_count": null,
            "_view_module": "@jupyter-widgets/controls",
            "_view_module_version": "1.5.0",
            "_view_name": "HTMLView",
            "description": "",
            "description_tooltip": null,
            "layout": "IPY_MODEL_03d1dde87804441c86f85f53790f2e5a",
            "placeholder": "​",
            "style": "IPY_MODEL_92bccfa590d549bfae0a5f9b5b479c83",
            "value": "Testando métricas do k-NN: 100%"
          }
        },
        "c74f2e61df514852bfe897af6d436ead": {
          "model_module": "@jupyter-widgets/controls",
          "model_name": "FloatProgressModel",
          "model_module_version": "1.5.0",
          "state": {
            "_dom_classes": [],
            "_model_module": "@jupyter-widgets/controls",
            "_model_module_version": "1.5.0",
            "_model_name": "FloatProgressModel",
            "_view_count": null,
            "_view_module": "@jupyter-widgets/controls",
            "_view_module_version": "1.5.0",
            "_view_name": "ProgressView",
            "bar_style": "success",
            "description": "",
            "description_tooltip": null,
            "layout": "IPY_MODEL_f441b8de1d4e4581b9bf676e0a856928",
            "max": 4,
            "min": 0,
            "orientation": "horizontal",
            "style": "IPY_MODEL_55d08fcdf0e44977bf8e9043c54ab65f",
            "value": 4
          }
        },
        "81ba45b17add4285ab924d0308a21dd5": {
          "model_module": "@jupyter-widgets/controls",
          "model_name": "HTMLModel",
          "model_module_version": "1.5.0",
          "state": {
            "_dom_classes": [],
            "_model_module": "@jupyter-widgets/controls",
            "_model_module_version": "1.5.0",
            "_model_name": "HTMLModel",
            "_view_count": null,
            "_view_module": "@jupyter-widgets/controls",
            "_view_module_version": "1.5.0",
            "_view_name": "HTMLView",
            "description": "",
            "description_tooltip": null,
            "layout": "IPY_MODEL_e0c16158d1994adfa229bd0913448d94",
            "placeholder": "​",
            "style": "IPY_MODEL_065e9fb50b9340d89ce747351c50c5ff",
            "value": " 4/4 [00:58&lt;00:00, 13.33s/it]"
          }
        },
        "8f4d9ab885a241b9875cd73454703e16": {
          "model_module": "@jupyter-widgets/base",
          "model_name": "LayoutModel",
          "model_module_version": "1.2.0",
          "state": {
            "_model_module": "@jupyter-widgets/base",
            "_model_module_version": "1.2.0",
            "_model_name": "LayoutModel",
            "_view_count": null,
            "_view_module": "@jupyter-widgets/base",
            "_view_module_version": "1.2.0",
            "_view_name": "LayoutView",
            "align_content": null,
            "align_items": null,
            "align_self": null,
            "border": null,
            "bottom": null,
            "display": null,
            "flex": null,
            "flex_flow": null,
            "grid_area": null,
            "grid_auto_columns": null,
            "grid_auto_flow": null,
            "grid_auto_rows": null,
            "grid_column": null,
            "grid_gap": null,
            "grid_row": null,
            "grid_template_areas": null,
            "grid_template_columns": null,
            "grid_template_rows": null,
            "height": null,
            "justify_content": null,
            "justify_items": null,
            "left": null,
            "margin": null,
            "max_height": null,
            "max_width": null,
            "min_height": null,
            "min_width": null,
            "object_fit": null,
            "object_position": null,
            "order": null,
            "overflow": null,
            "overflow_x": null,
            "overflow_y": null,
            "padding": null,
            "right": null,
            "top": null,
            "visibility": null,
            "width": null
          }
        },
        "03d1dde87804441c86f85f53790f2e5a": {
          "model_module": "@jupyter-widgets/base",
          "model_name": "LayoutModel",
          "model_module_version": "1.2.0",
          "state": {
            "_model_module": "@jupyter-widgets/base",
            "_model_module_version": "1.2.0",
            "_model_name": "LayoutModel",
            "_view_count": null,
            "_view_module": "@jupyter-widgets/base",
            "_view_module_version": "1.2.0",
            "_view_name": "LayoutView",
            "align_content": null,
            "align_items": null,
            "align_self": null,
            "border": null,
            "bottom": null,
            "display": null,
            "flex": null,
            "flex_flow": null,
            "grid_area": null,
            "grid_auto_columns": null,
            "grid_auto_flow": null,
            "grid_auto_rows": null,
            "grid_column": null,
            "grid_gap": null,
            "grid_row": null,
            "grid_template_areas": null,
            "grid_template_columns": null,
            "grid_template_rows": null,
            "height": null,
            "justify_content": null,
            "justify_items": null,
            "left": null,
            "margin": null,
            "max_height": null,
            "max_width": null,
            "min_height": null,
            "min_width": null,
            "object_fit": null,
            "object_position": null,
            "order": null,
            "overflow": null,
            "overflow_x": null,
            "overflow_y": null,
            "padding": null,
            "right": null,
            "top": null,
            "visibility": null,
            "width": null
          }
        },
        "92bccfa590d549bfae0a5f9b5b479c83": {
          "model_module": "@jupyter-widgets/controls",
          "model_name": "DescriptionStyleModel",
          "model_module_version": "1.5.0",
          "state": {
            "_model_module": "@jupyter-widgets/controls",
            "_model_module_version": "1.5.0",
            "_model_name": "DescriptionStyleModel",
            "_view_count": null,
            "_view_module": "@jupyter-widgets/base",
            "_view_module_version": "1.2.0",
            "_view_name": "StyleView",
            "description_width": ""
          }
        },
        "f441b8de1d4e4581b9bf676e0a856928": {
          "model_module": "@jupyter-widgets/base",
          "model_name": "LayoutModel",
          "model_module_version": "1.2.0",
          "state": {
            "_model_module": "@jupyter-widgets/base",
            "_model_module_version": "1.2.0",
            "_model_name": "LayoutModel",
            "_view_count": null,
            "_view_module": "@jupyter-widgets/base",
            "_view_module_version": "1.2.0",
            "_view_name": "LayoutView",
            "align_content": null,
            "align_items": null,
            "align_self": null,
            "border": null,
            "bottom": null,
            "display": null,
            "flex": null,
            "flex_flow": null,
            "grid_area": null,
            "grid_auto_columns": null,
            "grid_auto_flow": null,
            "grid_auto_rows": null,
            "grid_column": null,
            "grid_gap": null,
            "grid_row": null,
            "grid_template_areas": null,
            "grid_template_columns": null,
            "grid_template_rows": null,
            "height": null,
            "justify_content": null,
            "justify_items": null,
            "left": null,
            "margin": null,
            "max_height": null,
            "max_width": null,
            "min_height": null,
            "min_width": null,
            "object_fit": null,
            "object_position": null,
            "order": null,
            "overflow": null,
            "overflow_x": null,
            "overflow_y": null,
            "padding": null,
            "right": null,
            "top": null,
            "visibility": null,
            "width": null
          }
        },
        "55d08fcdf0e44977bf8e9043c54ab65f": {
          "model_module": "@jupyter-widgets/controls",
          "model_name": "ProgressStyleModel",
          "model_module_version": "1.5.0",
          "state": {
            "_model_module": "@jupyter-widgets/controls",
            "_model_module_version": "1.5.0",
            "_model_name": "ProgressStyleModel",
            "_view_count": null,
            "_view_module": "@jupyter-widgets/base",
            "_view_module_version": "1.2.0",
            "_view_name": "StyleView",
            "bar_color": null,
            "description_width": ""
          }
        },
        "e0c16158d1994adfa229bd0913448d94": {
          "model_module": "@jupyter-widgets/base",
          "model_name": "LayoutModel",
          "model_module_version": "1.2.0",
          "state": {
            "_model_module": "@jupyter-widgets/base",
            "_model_module_version": "1.2.0",
            "_model_name": "LayoutModel",
            "_view_count": null,
            "_view_module": "@jupyter-widgets/base",
            "_view_module_version": "1.2.0",
            "_view_name": "LayoutView",
            "align_content": null,
            "align_items": null,
            "align_self": null,
            "border": null,
            "bottom": null,
            "display": null,
            "flex": null,
            "flex_flow": null,
            "grid_area": null,
            "grid_auto_columns": null,
            "grid_auto_flow": null,
            "grid_auto_rows": null,
            "grid_column": null,
            "grid_gap": null,
            "grid_row": null,
            "grid_template_areas": null,
            "grid_template_columns": null,
            "grid_template_rows": null,
            "height": null,
            "justify_content": null,
            "justify_items": null,
            "left": null,
            "margin": null,
            "max_height": null,
            "max_width": null,
            "min_height": null,
            "min_width": null,
            "object_fit": null,
            "object_position": null,
            "order": null,
            "overflow": null,
            "overflow_x": null,
            "overflow_y": null,
            "padding": null,
            "right": null,
            "top": null,
            "visibility": null,
            "width": null
          }
        },
        "065e9fb50b9340d89ce747351c50c5ff": {
          "model_module": "@jupyter-widgets/controls",
          "model_name": "DescriptionStyleModel",
          "model_module_version": "1.5.0",
          "state": {
            "_model_module": "@jupyter-widgets/controls",
            "_model_module_version": "1.5.0",
            "_model_name": "DescriptionStyleModel",
            "_view_count": null,
            "_view_module": "@jupyter-widgets/base",
            "_view_module_version": "1.2.0",
            "_view_name": "StyleView",
            "description_width": ""
          }
        },
        "39a27f7b288b46c88dfd03e4a2ffcff0": {
          "model_module": "@jupyter-widgets/controls",
          "model_name": "HBoxModel",
          "model_module_version": "1.5.0",
          "state": {
            "_dom_classes": [],
            "_model_module": "@jupyter-widgets/controls",
            "_model_module_version": "1.5.0",
            "_model_name": "HBoxModel",
            "_view_count": null,
            "_view_module": "@jupyter-widgets/controls",
            "_view_module_version": "1.5.0",
            "_view_name": "HBoxView",
            "box_style": "",
            "children": [
              "IPY_MODEL_438ed87d8c554a9dbb5e5fdbe2adbaf2",
              "IPY_MODEL_5561354bd07145f2aa36ec9b56b409df",
              "IPY_MODEL_483526263b784197b3b74c137d24b75e"
            ],
            "layout": "IPY_MODEL_57ba2986ae3c492ab5a6404b3c847249"
          }
        },
        "438ed87d8c554a9dbb5e5fdbe2adbaf2": {
          "model_module": "@jupyter-widgets/controls",
          "model_name": "HTMLModel",
          "model_module_version": "1.5.0",
          "state": {
            "_dom_classes": [],
            "_model_module": "@jupyter-widgets/controls",
            "_model_module_version": "1.5.0",
            "_model_name": "HTMLModel",
            "_view_count": null,
            "_view_module": "@jupyter-widgets/controls",
            "_view_module_version": "1.5.0",
            "_view_name": "HTMLView",
            "description": "",
            "description_tooltip": null,
            "layout": "IPY_MODEL_66f5f4377aeb4f4bbd1fc28a4f243deb",
            "placeholder": "​",
            "style": "IPY_MODEL_a05ba280eb2e47428a013f679cb7008c",
            "value": "Testando &#x27;k&#x27;: 100%"
          }
        },
        "5561354bd07145f2aa36ec9b56b409df": {
          "model_module": "@jupyter-widgets/controls",
          "model_name": "FloatProgressModel",
          "model_module_version": "1.5.0",
          "state": {
            "_dom_classes": [],
            "_model_module": "@jupyter-widgets/controls",
            "_model_module_version": "1.5.0",
            "_model_name": "FloatProgressModel",
            "_view_count": null,
            "_view_module": "@jupyter-widgets/controls",
            "_view_module_version": "1.5.0",
            "_view_name": "ProgressView",
            "bar_style": "success",
            "description": "",
            "description_tooltip": null,
            "layout": "IPY_MODEL_fda199e550264eeeb012ec2eed3e7ee6",
            "max": 4,
            "min": 0,
            "orientation": "horizontal",
            "style": "IPY_MODEL_14ad6abcbdfb487caadbbda50b6f3da3",
            "value": 4
          }
        },
        "483526263b784197b3b74c137d24b75e": {
          "model_module": "@jupyter-widgets/controls",
          "model_name": "HTMLModel",
          "model_module_version": "1.5.0",
          "state": {
            "_dom_classes": [],
            "_model_module": "@jupyter-widgets/controls",
            "_model_module_version": "1.5.0",
            "_model_name": "HTMLModel",
            "_view_count": null,
            "_view_module": "@jupyter-widgets/controls",
            "_view_module_version": "1.5.0",
            "_view_name": "HTMLView",
            "description": "",
            "description_tooltip": null,
            "layout": "IPY_MODEL_cc2424d5480042cab4d89a3ca285e7ea",
            "placeholder": "​",
            "style": "IPY_MODEL_2af31558cb9f48baae266b22becfcb7c",
            "value": " 4/4 [00:02&lt;00:00,  1.83it/s]"
          }
        },
        "57ba2986ae3c492ab5a6404b3c847249": {
          "model_module": "@jupyter-widgets/base",
          "model_name": "LayoutModel",
          "model_module_version": "1.2.0",
          "state": {
            "_model_module": "@jupyter-widgets/base",
            "_model_module_version": "1.2.0",
            "_model_name": "LayoutModel",
            "_view_count": null,
            "_view_module": "@jupyter-widgets/base",
            "_view_module_version": "1.2.0",
            "_view_name": "LayoutView",
            "align_content": null,
            "align_items": null,
            "align_self": null,
            "border": null,
            "bottom": null,
            "display": null,
            "flex": null,
            "flex_flow": null,
            "grid_area": null,
            "grid_auto_columns": null,
            "grid_auto_flow": null,
            "grid_auto_rows": null,
            "grid_column": null,
            "grid_gap": null,
            "grid_row": null,
            "grid_template_areas": null,
            "grid_template_columns": null,
            "grid_template_rows": null,
            "height": null,
            "justify_content": null,
            "justify_items": null,
            "left": null,
            "margin": null,
            "max_height": null,
            "max_width": null,
            "min_height": null,
            "min_width": null,
            "object_fit": null,
            "object_position": null,
            "order": null,
            "overflow": null,
            "overflow_x": null,
            "overflow_y": null,
            "padding": null,
            "right": null,
            "top": null,
            "visibility": null,
            "width": null
          }
        },
        "66f5f4377aeb4f4bbd1fc28a4f243deb": {
          "model_module": "@jupyter-widgets/base",
          "model_name": "LayoutModel",
          "model_module_version": "1.2.0",
          "state": {
            "_model_module": "@jupyter-widgets/base",
            "_model_module_version": "1.2.0",
            "_model_name": "LayoutModel",
            "_view_count": null,
            "_view_module": "@jupyter-widgets/base",
            "_view_module_version": "1.2.0",
            "_view_name": "LayoutView",
            "align_content": null,
            "align_items": null,
            "align_self": null,
            "border": null,
            "bottom": null,
            "display": null,
            "flex": null,
            "flex_flow": null,
            "grid_area": null,
            "grid_auto_columns": null,
            "grid_auto_flow": null,
            "grid_auto_rows": null,
            "grid_column": null,
            "grid_gap": null,
            "grid_row": null,
            "grid_template_areas": null,
            "grid_template_columns": null,
            "grid_template_rows": null,
            "height": null,
            "justify_content": null,
            "justify_items": null,
            "left": null,
            "margin": null,
            "max_height": null,
            "max_width": null,
            "min_height": null,
            "min_width": null,
            "object_fit": null,
            "object_position": null,
            "order": null,
            "overflow": null,
            "overflow_x": null,
            "overflow_y": null,
            "padding": null,
            "right": null,
            "top": null,
            "visibility": null,
            "width": null
          }
        },
        "a05ba280eb2e47428a013f679cb7008c": {
          "model_module": "@jupyter-widgets/controls",
          "model_name": "DescriptionStyleModel",
          "model_module_version": "1.5.0",
          "state": {
            "_model_module": "@jupyter-widgets/controls",
            "_model_module_version": "1.5.0",
            "_model_name": "DescriptionStyleModel",
            "_view_count": null,
            "_view_module": "@jupyter-widgets/base",
            "_view_module_version": "1.2.0",
            "_view_name": "StyleView",
            "description_width": ""
          }
        },
        "fda199e550264eeeb012ec2eed3e7ee6": {
          "model_module": "@jupyter-widgets/base",
          "model_name": "LayoutModel",
          "model_module_version": "1.2.0",
          "state": {
            "_model_module": "@jupyter-widgets/base",
            "_model_module_version": "1.2.0",
            "_model_name": "LayoutModel",
            "_view_count": null,
            "_view_module": "@jupyter-widgets/base",
            "_view_module_version": "1.2.0",
            "_view_name": "LayoutView",
            "align_content": null,
            "align_items": null,
            "align_self": null,
            "border": null,
            "bottom": null,
            "display": null,
            "flex": null,
            "flex_flow": null,
            "grid_area": null,
            "grid_auto_columns": null,
            "grid_auto_flow": null,
            "grid_auto_rows": null,
            "grid_column": null,
            "grid_gap": null,
            "grid_row": null,
            "grid_template_areas": null,
            "grid_template_columns": null,
            "grid_template_rows": null,
            "height": null,
            "justify_content": null,
            "justify_items": null,
            "left": null,
            "margin": null,
            "max_height": null,
            "max_width": null,
            "min_height": null,
            "min_width": null,
            "object_fit": null,
            "object_position": null,
            "order": null,
            "overflow": null,
            "overflow_x": null,
            "overflow_y": null,
            "padding": null,
            "right": null,
            "top": null,
            "visibility": null,
            "width": null
          }
        },
        "14ad6abcbdfb487caadbbda50b6f3da3": {
          "model_module": "@jupyter-widgets/controls",
          "model_name": "ProgressStyleModel",
          "model_module_version": "1.5.0",
          "state": {
            "_model_module": "@jupyter-widgets/controls",
            "_model_module_version": "1.5.0",
            "_model_name": "ProgressStyleModel",
            "_view_count": null,
            "_view_module": "@jupyter-widgets/base",
            "_view_module_version": "1.2.0",
            "_view_name": "StyleView",
            "bar_color": null,
            "description_width": ""
          }
        },
        "cc2424d5480042cab4d89a3ca285e7ea": {
          "model_module": "@jupyter-widgets/base",
          "model_name": "LayoutModel",
          "model_module_version": "1.2.0",
          "state": {
            "_model_module": "@jupyter-widgets/base",
            "_model_module_version": "1.2.0",
            "_model_name": "LayoutModel",
            "_view_count": null,
            "_view_module": "@jupyter-widgets/base",
            "_view_module_version": "1.2.0",
            "_view_name": "LayoutView",
            "align_content": null,
            "align_items": null,
            "align_self": null,
            "border": null,
            "bottom": null,
            "display": null,
            "flex": null,
            "flex_flow": null,
            "grid_area": null,
            "grid_auto_columns": null,
            "grid_auto_flow": null,
            "grid_auto_rows": null,
            "grid_column": null,
            "grid_gap": null,
            "grid_row": null,
            "grid_template_areas": null,
            "grid_template_columns": null,
            "grid_template_rows": null,
            "height": null,
            "justify_content": null,
            "justify_items": null,
            "left": null,
            "margin": null,
            "max_height": null,
            "max_width": null,
            "min_height": null,
            "min_width": null,
            "object_fit": null,
            "object_position": null,
            "order": null,
            "overflow": null,
            "overflow_x": null,
            "overflow_y": null,
            "padding": null,
            "right": null,
            "top": null,
            "visibility": null,
            "width": null
          }
        },
        "2af31558cb9f48baae266b22becfcb7c": {
          "model_module": "@jupyter-widgets/controls",
          "model_name": "DescriptionStyleModel",
          "model_module_version": "1.5.0",
          "state": {
            "_model_module": "@jupyter-widgets/controls",
            "_model_module_version": "1.5.0",
            "_model_name": "DescriptionStyleModel",
            "_view_count": null,
            "_view_module": "@jupyter-widgets/base",
            "_view_module_version": "1.2.0",
            "_view_name": "StyleView",
            "description_width": ""
          }
        }
      }
    }
  },
  "nbformat": 4,
  "nbformat_minor": 0
}